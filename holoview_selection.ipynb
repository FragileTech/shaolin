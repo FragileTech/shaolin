{
 "cells": [
  {
   "cell_type": "code",
   "execution_count": 2,
   "id": "79380b25-ba6e-44db-9217-bd57fcc4e28b",
   "metadata": {},
   "outputs": [
    {
     "ename": "ImportError",
     "evalue": "cannot import name 'opts' from partially initialized module 'holoviews' (most likely due to a circular import) (/Users/vicentearjona/opt/miniconda3/lib/python3.8/site-packages/holoviews/__init__.py)",
     "output_type": "error",
     "traceback": [
      "\u001b[0;31m---------------------------------------------------------------------------\u001b[0m",
      "\u001b[0;31mImportError\u001b[0m                               Traceback (most recent call last)",
      "\u001b[0;32m<ipython-input-2-bb93ac4d7c50>\u001b[0m in \u001b[0;36m<module>\u001b[0;34m\u001b[0m\n\u001b[0;32m----> 1\u001b[0;31m \u001b[0;32mimport\u001b[0m \u001b[0mholoviews\u001b[0m \u001b[0;32mas\u001b[0m \u001b[0mhv\u001b[0m\u001b[0;34m\u001b[0m\u001b[0;34m\u001b[0m\u001b[0m\n\u001b[0m\u001b[1;32m      2\u001b[0m \u001b[0;32mimport\u001b[0m \u001b[0mpanel\u001b[0m \u001b[0;32mas\u001b[0m \u001b[0mpn\u001b[0m\u001b[0;34m\u001b[0m\u001b[0;34m\u001b[0m\u001b[0m\n\u001b[1;32m      3\u001b[0m \u001b[0;32mimport\u001b[0m \u001b[0mnumpy\u001b[0m \u001b[0;32mas\u001b[0m \u001b[0mnp\u001b[0m\u001b[0;34m\u001b[0m\u001b[0;34m\u001b[0m\u001b[0m\n\u001b[1;32m      4\u001b[0m \u001b[0;32mimport\u001b[0m \u001b[0mpandas\u001b[0m \u001b[0;32mas\u001b[0m \u001b[0mpd\u001b[0m\u001b[0;34m\u001b[0m\u001b[0;34m\u001b[0m\u001b[0m\n\u001b[1;32m      5\u001b[0m \u001b[0;32mimport\u001b[0m \u001b[0mparam\u001b[0m\u001b[0;34m\u001b[0m\u001b[0;34m\u001b[0m\u001b[0m\n",
      "\u001b[0;32m~/opt/miniconda3/lib/python3.8/site-packages/holoviews/__init__.py\u001b[0m in \u001b[0;36m<module>\u001b[0;34m\u001b[0m\n\u001b[1;32m     10\u001b[0m \u001b[0;34m\u001b[0m\u001b[0m\n\u001b[1;32m     11\u001b[0m \u001b[0;32mfrom\u001b[0m \u001b[0;34m.\u001b[0m \u001b[0;32mimport\u001b[0m \u001b[0mutil\u001b[0m                                       \u001b[0;31m# noqa (API import)\u001b[0m\u001b[0;34m\u001b[0m\u001b[0;34m\u001b[0m\u001b[0m\n\u001b[0;32m---> 12\u001b[0;31m \u001b[0;32mfrom\u001b[0m \u001b[0;34m.\u001b[0m\u001b[0mannotators\u001b[0m \u001b[0;32mimport\u001b[0m \u001b[0mannotate\u001b[0m                         \u001b[0;31m# noqa (API import)\u001b[0m\u001b[0;34m\u001b[0m\u001b[0;34m\u001b[0m\u001b[0m\n\u001b[0m\u001b[1;32m     13\u001b[0m \u001b[0;32mfrom\u001b[0m \u001b[0;34m.\u001b[0m\u001b[0mcore\u001b[0m \u001b[0;32mimport\u001b[0m \u001b[0marchive\u001b[0m\u001b[0;34m,\u001b[0m \u001b[0mconfig\u001b[0m                        \u001b[0;31m# noqa (API import)\u001b[0m\u001b[0;34m\u001b[0m\u001b[0;34m\u001b[0m\u001b[0m\n\u001b[1;32m     14\u001b[0m \u001b[0;32mfrom\u001b[0m \u001b[0;34m.\u001b[0m\u001b[0mcore\u001b[0m\u001b[0;34m.\u001b[0m\u001b[0mboundingregion\u001b[0m \u001b[0;32mimport\u001b[0m \u001b[0mBoundingBox\u001b[0m             \u001b[0;31m# noqa (API import)\u001b[0m\u001b[0;34m\u001b[0m\u001b[0;34m\u001b[0m\u001b[0m\n",
      "\u001b[0;32m~/opt/miniconda3/lib/python3.8/site-packages/holoviews/annotators.py\u001b[0m in \u001b[0;36m<module>\u001b[0;34m\u001b[0m\n\u001b[1;32m      8\u001b[0m \u001b[0;32mimport\u001b[0m \u001b[0mparam\u001b[0m\u001b[0;34m\u001b[0m\u001b[0;34m\u001b[0m\u001b[0m\n\u001b[1;32m      9\u001b[0m \u001b[0;34m\u001b[0m\u001b[0m\n\u001b[0;32m---> 10\u001b[0;31m \u001b[0;32mfrom\u001b[0m \u001b[0mpanel\u001b[0m\u001b[0;34m.\u001b[0m\u001b[0mpane\u001b[0m \u001b[0;32mimport\u001b[0m \u001b[0mPaneBase\u001b[0m\u001b[0;34m\u001b[0m\u001b[0;34m\u001b[0m\u001b[0m\n\u001b[0m\u001b[1;32m     11\u001b[0m \u001b[0;32mfrom\u001b[0m \u001b[0mpanel\u001b[0m\u001b[0;34m.\u001b[0m\u001b[0mlayout\u001b[0m \u001b[0;32mimport\u001b[0m \u001b[0mRow\u001b[0m\u001b[0;34m,\u001b[0m \u001b[0mTabs\u001b[0m\u001b[0;34m\u001b[0m\u001b[0;34m\u001b[0m\u001b[0m\n\u001b[1;32m     12\u001b[0m \u001b[0;32mfrom\u001b[0m \u001b[0mpanel\u001b[0m\u001b[0;34m.\u001b[0m\u001b[0mutil\u001b[0m \u001b[0;32mimport\u001b[0m \u001b[0mparam_name\u001b[0m\u001b[0;34m\u001b[0m\u001b[0;34m\u001b[0m\u001b[0m\n",
      "\u001b[0;32m~/Documents/Fragile.tech/data-science-course-main/panel.py\u001b[0m in \u001b[0;36m<module>\u001b[0;34m\u001b[0m\n\u001b[1;32m      4\u001b[0m \u001b[0;32mimport\u001b[0m \u001b[0mpandas\u001b[0m \u001b[0;32mas\u001b[0m \u001b[0mpd\u001b[0m\u001b[0;34m\u001b[0m\u001b[0;34m\u001b[0m\u001b[0m\n\u001b[1;32m      5\u001b[0m \u001b[0;32mimport\u001b[0m \u001b[0mparam\u001b[0m\u001b[0;34m\u001b[0m\u001b[0;34m\u001b[0m\u001b[0m\n\u001b[0;32m----> 6\u001b[0;31m \u001b[0;32mfrom\u001b[0m \u001b[0mholoviews\u001b[0m \u001b[0;32mimport\u001b[0m \u001b[0mopts\u001b[0m\u001b[0;34m\u001b[0m\u001b[0;34m\u001b[0m\u001b[0m\n\u001b[0m\u001b[1;32m      7\u001b[0m \u001b[0;34m\u001b[0m\u001b[0m\n\u001b[1;32m      8\u001b[0m \u001b[0mhv\u001b[0m\u001b[0;34m.\u001b[0m\u001b[0mextension\u001b[0m\u001b[0;34m(\u001b[0m\u001b[0;34m'bokeh'\u001b[0m\u001b[0;34m)\u001b[0m\u001b[0;34m\u001b[0m\u001b[0;34m\u001b[0m\u001b[0m\n",
      "\u001b[0;31mImportError\u001b[0m: cannot import name 'opts' from partially initialized module 'holoviews' (most likely due to a circular import) (/Users/vicentearjona/opt/miniconda3/lib/python3.8/site-packages/holoviews/__init__.py)"
     ]
    }
   ],
   "source": [
    "import holoviews as hv\n",
    "import panel as pn\n",
    "import numpy as np\n",
    "import pandas as pd\n",
    "import param \n",
    "\n",
    "hv.extension('bokeh')\n",
    "pn.extension()"
   ]
  },
  {
   "cell_type": "code",
   "execution_count": 4,
   "id": "284fa89e-731f-4c26-ab7c-30acd1723d69",
   "metadata": {},
   "outputs": [
    {
     "ename": "ModuleNotFoundError",
     "evalue": "No module named 'hovloviews'",
     "output_type": "error",
     "traceback": [
      "\u001b[0;31m---------------------------------------------------------------------------\u001b[0m",
      "\u001b[0;31mModuleNotFoundError\u001b[0m                       Traceback (most recent call last)",
      "\u001b[0;32m<ipython-input-4-4f224e2206ad>\u001b[0m in \u001b[0;36m<module>\u001b[0;34m\u001b[0m\n\u001b[0;32m----> 1\u001b[0;31m \u001b[0;32mfrom\u001b[0m \u001b[0mhovloviews\u001b[0m \u001b[0;32mimport\u001b[0m \u001b[0mopts\u001b[0m\u001b[0;34m\u001b[0m\u001b[0;34m\u001b[0m\u001b[0m\n\u001b[0m",
      "\u001b[0;31mModuleNotFoundError\u001b[0m: No module named 'hovloviews'"
     ]
    }
   ],
   "source": [
    "from hovloviews import opts"
   ]
  },
  {
   "cell_type": "code",
   "execution_count": null,
   "id": "cf7e423c-dfa6-414b-a0b7-9e0328eced28",
   "metadata": {},
   "outputs": [],
   "source": [
    "data = np.random.randint(1, 10, size=(5, 10))"
   ]
  },
  {
   "cell_type": "code",
   "execution_count": null,
   "id": "800969e0-a5d2-4503-8690-a4482cb5d9a3",
   "metadata": {},
   "outputs": [],
   "source": [
    "col = ['col ' + str(i) for i in range(10)]\n",
    "data = pd.DataFrame(data, columns=col)\n",
    "data"
   ]
  },
  {
   "cell_type": "code",
   "execution_count": null,
   "id": "453f62d0-d033-452b-aeb8-038e21781f46",
   "metadata": {},
   "outputs": [],
   "source": [
    "hv.Curve( data, vdims='col 2', kdims='index' )"
   ]
  },
  {
   "cell_type": "code",
   "execution_count": null,
   "id": "def4f78a-dda9-402f-b061-c1ce2e11de3c",
   "metadata": {},
   "outputs": [],
   "source": [
    "class HoloParam(param.Parameterized):\n",
    "    \n",
    "    data = param.DataFrame(pd.DataFrame({'a': {'1': 1, '2': 2}, 'b': {'1': 'one', '2': 'two'}})) \n",
    "    kdims = param.ObjectSelector(objects=['0'], label='X-axis')\n",
    "    vdims = param.ObjectSelector(objects=['1'], label='Y-axis')\n",
    "    bgcolor = param.Color(default='#FFFFFF', label='Background color')\n",
    "    figcolor = param.Color(default='#5EB7A8', label='Curve color')\n",
    "    title = param.String(default='Representation')\n",
    "    xlabel = param.String(default='', label='X-axis label')\n",
    "    ylabel = param.String(default='', label='Y-axis label')\n",
    "    fontscaling = param.Number(default=1.0, bounds=(0,5.0), label='Font scaling')\n",
    "    width = param.Parameter(default=500, precedence=-1, label='Width')\n",
    "    height = param.Parameter(default=300, precedence=-1, label='Height')\n",
    "    xaxis = param.ObjectSelector(default='bottom', objects=['bottom', 'top', 'right', 'left', None], label='X-axis position')\n",
    "    yaxis = param.ObjectSelector(default='left', objects=['left', 'right', 'top', 'bottom', None], label='Y-axis position')\n",
    "    x_inverted = param.Boolean(default=False, label='Inverted x-axis')\n",
    "    y_inverted = param.Boolean(default=False, label='Inverted y-axis')\n",
    "    logx = param.Boolean(default=False, label='Log x-axis')\n",
    "    logy = param.Boolean(default=False, label='Log y-axis')\n",
    "    toolbar = param.ObjectSelector(default='right', objects=['right', 'left', 'above', 'below'], label='Position toolbar')\n",
    "    aspect = param.Number(default=1.5, bounds=(1.0, 5.0), label='Aspect ratio')\n",
    "    xrange = param.Range(default=(0.0, 0.0), bounds=(-1.0E+20, 1.0E+20), label='X-axis limits')\n",
    "    yrange = param.Range(default=(0.0, 0.0), bounds=(-1.0E+20, 1.0E+20), label='Y-axis limits')\n",
    "    options_dict = param.Dict(dict(), precedence=-1)\n",
    "\n",
    "    def __init__(self, **params):\n",
    "        super(HoloParam, self).__init__(**params)\n",
    "        #_dict_values = {self.data.columns[i]: self.data[self.data.columns[i]] for i in range(self.data.shape[1])}\n",
    "        #_dict_values['Index'] = self.data.index\n",
    "        _list_values = list(self.data.columns.values)\n",
    "        _list_values.append('Index')\n",
    "        self.vicente = 'vicente'\n",
    "        self.data.index.name = 'Index'\n",
    "        self.param.kdims.objects = _list_values\n",
    "        self.param.kdims.default = 'Index'\n",
    "        self.kdims = 'Index'\n",
    "        self.param.vdims.objects = _list_values\n",
    "        self.param.vdims.default = self.data.columns[1]\n",
    "        self.vdims = self.data.columns[1]\n",
    "        self.xlabel = self.kdims\n",
    "        self.ylabel = self.vdims\n",
    "        self.i = 0\n",
    "        self.jj = 0\n",
    "        #self.xrange = (self.data.index.min(), self.data.index.max())\n",
    "        #self.yrange = (self.data[self.vdims].min(), self.data[self.vdims].max())\n",
    "        #self.param.xrange.bounds = (self.data.index.min() * 0.5, self.data.index.max() * 1.5)\n",
    "        #self.param.yrange.bounds = (self.data[self.vdims].min() * 0.5, self.data[self.vdims].max() * 1.5)\n",
    "\n",
    "        \n",
    "        \n",
    "\n",
    "class HoloPlot(HoloParam):\n",
    "    \n",
    "    @param.depends('vdims', 'kdims', watch = True)\n",
    "    def labels(self):\n",
    "        self.xlabel = self.kdims\n",
    "        self.ylabel = self.vdims\n",
    "    \n",
    "    @param.depends('vdims', 'kdims', watch = True)\n",
    "    def xyrange(self):\n",
    "        # xrange\n",
    "        self.i += 1\n",
    "        self.jj += 1\n",
    "        print('i = ', self.i, self.vicente)\n",
    "        if self.kdims == 'Index':\n",
    "            # bound limits\n",
    "            lower_index = -3.0 if (float(self.data.index.min()) == 0.0) else self.data.index.min()\n",
    "            upper_index = 1.0 if (float(self.data.index.max()) == 0.0) else self.data.index.max()\n",
    "            # modify params\n",
    "            self.param.xrange.bounds = (lower_index * 0.5, upper_index * 1.5)\n",
    "            self.xrange = (self.data.index.min(), self.data.index.max())\n",
    "        else:\n",
    "            # bound limits \n",
    "            lower_kdims = -3.0 if (float(self.data[self.kdims].min()) == 0.0) else self.data[self.kdims].min()\n",
    "            upper_kdims = 1.0 if (float(self.data[self.kdims].max()) == 0.0) else self.data[self.kdims].max()\n",
    "            # modify params\n",
    "            self.param.xrange.bounds = (lower_kdims * 0.5, upper_kdims * 1.5)\n",
    "            self.xrange = (self.data[self.kdims].min(), self.data[self.kdims].max())\n",
    "        # yrange\n",
    "        if self.vdims == 'Index':\n",
    "            # bound limits\n",
    "            lower_index = -3.0 if (float(self.data.index.min()) == 0.0) else self.data.index.min()\n",
    "            upper_index = 1.0 if (float(self.data.index.max()) == 0.0) else self.data.index.max()\n",
    "            # modify params\n",
    "            self.param.yrange.bounds = (lower_index * 0.5, upper_index * 1.5)\n",
    "            self.yrange = (self.data.index.min(), self.data.index.max())\n",
    "        else:\n",
    "            # bound limits \n",
    "            lower_vdims = -3.0 if (float(self.data[self.vdims].min()) == 0.0) else self.data[self.vdims].min()  \n",
    "            upper_vdims = 1.0 if (float(self.data[self.vdims].max()) == 0.0) else self.data[self.vdims].max()\n",
    "            # modify params \n",
    "            self.param.yrange.bounds = (lower_vdims * 0.5, upper_vdims * 1.5)\n",
    "            self.yrange = (self.data[self.vdims].min(), self.data[self.vdims].max())\n",
    "\n",
    "        \n",
    "    @param.depends(\n",
    "        'title', \n",
    "        'figcolor', \n",
    "        'bgcolor', \n",
    "        'fontscaling', \n",
    "        'width', \n",
    "        'height', \n",
    "        'xaxis', \n",
    "        'yaxis', \n",
    "        'xrange',\n",
    "        'yrange',\n",
    "        'x_inverted',\n",
    "        'y_inverted', \n",
    "        'xlabel', \n",
    "        'ylabel', \n",
    "        'logx', \n",
    "        'logy', \n",
    "        'toolbar', \n",
    "        'aspect', \n",
    "        watch=True)\n",
    "    def options(self):\n",
    "        print(self.jj)\n",
    "        #self.jj += 1\n",
    "        #print('j = ', self.i)\n",
    "        \n",
    "        \n",
    "        self.options_dict = {'title': self.title, \n",
    "                             'bgcolor': self.bgcolor, \n",
    "                             'color': self.figcolor,\n",
    "                             'fontscale': self.fontscaling,\n",
    "                             #'width': self.width,\n",
    "                             #'height': self.height, \n",
    "                             'aspect': self.aspect, \n",
    "                             'xaxis': self.xaxis, \n",
    "                             'yaxis': self.yaxis, \n",
    "                             'xlim': self.xrange,\n",
    "                             'ylim': self.yrange, \n",
    "                             'xlabel': self.xlabel, \n",
    "                             'ylabel': self.ylabel,\n",
    "                             'logx': self.logx,\n",
    "                             'logy': self.logy,\n",
    "                             'toolbar': self.toolbar,\n",
    "                             'invert_xaxis': self.x_inverted,\n",
    "                             'invert_yaxis': self.y_inverted,\n",
    "                            }\n",
    "    \n",
    "    @param.depends('kdims', 'vdims', 'options_dict')\n",
    "    def plot(self):\n",
    "        # Load option set\n",
    "        self.xyrange()\n",
    "        self.options()\n",
    "        options = opts.Curve(**self.options_dict)\n",
    "        # Generate figure\n",
    "        fig = hv.Curve(self.data, vdims=self.vdims, kdims=self.kdims)\n",
    "        return fig.opts(options)\n",
    "    \n",
    "class HoloGrid(HoloPlot):\n",
    "    \n",
    "    def panel(self):\n",
    "        return pn.Column(self.plot, pn.Row(self.param))"
   ]
  },
  {
   "cell_type": "code",
   "execution_count": null,
   "id": "8bd7e906-ca9b-450d-9f51-b529c11dba1e",
   "metadata": {},
   "outputs": [],
   "source": [
    "a = HoloGrid(data=data)"
   ]
  },
  {
   "cell_type": "code",
   "execution_count": null,
   "id": "4d804cf2-970c-4360-b281-463487deecb8",
   "metadata": {},
   "outputs": [],
   "source": [
    "a.i"
   ]
  },
  {
   "cell_type": "code",
   "execution_count": null,
   "id": "8bbeb67f-d48a-4aed-bb68-a58417a33620",
   "metadata": {},
   "outputs": [],
   "source": [
    "a.jj"
   ]
  },
  {
   "cell_type": "code",
   "execution_count": null,
   "id": "96fdb7af-e8b6-427c-8d5c-bf54940a9a8e",
   "metadata": {},
   "outputs": [],
   "source": [
    "a.options()"
   ]
  },
  {
   "cell_type": "code",
   "execution_count": null,
   "id": "dc56d8a0-b655-46c4-86a6-d1ee98712211",
   "metadata": {},
   "outputs": [],
   "source": [
    "a.xrange"
   ]
  },
  {
   "cell_type": "code",
   "execution_count": null,
   "id": "2fa344f6-f259-4659-b70a-09c121fdebd1",
   "metadata": {},
   "outputs": [],
   "source": [
    "a.options_dict"
   ]
  },
  {
   "cell_type": "code",
   "execution_count": null,
   "id": "f9fbb19a-2640-4321-8938-80d081782a74",
   "metadata": {},
   "outputs": [],
   "source": [
    "a.panel()"
   ]
  },
  {
   "cell_type": "code",
   "execution_count": null,
   "id": "136596cc-cde9-460e-972b-86cf812bd7a9",
   "metadata": {},
   "outputs": [],
   "source": [
    "a.bgcolor"
   ]
  },
  {
   "cell_type": "code",
   "execution_count": null,
   "id": "eed3c285-579f-42ba-b2eb-118f42bade22",
   "metadata": {},
   "outputs": [],
   "source": [
    "active = 1\n",
    "hv.Curve(data) + active * hv.Curve(data, kdim='Index', vdims='col 3')"
   ]
  },
  {
   "cell_type": "code",
   "execution_count": null,
   "id": "55fd0c59-d74c-4291-9700-64e06795695f",
   "metadata": {},
   "outputs": [],
   "source": []
  }
 ],
 "metadata": {
  "kernelspec": {
   "display_name": "Python 3",
   "language": "python",
   "name": "python3"
  },
  "language_info": {
   "codemirror_mode": {
    "name": "ipython",
    "version": 3
   },
   "file_extension": ".py",
   "mimetype": "text/x-python",
   "name": "python",
   "nbconvert_exporter": "python",
   "pygments_lexer": "ipython3",
   "version": "3.8.11"
  }
 },
 "nbformat": 4,
 "nbformat_minor": 5
}
